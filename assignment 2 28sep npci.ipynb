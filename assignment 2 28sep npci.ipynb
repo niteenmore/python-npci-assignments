{
 "cells": [
  {
   "cell_type": "code",
   "execution_count": 11,
   "id": "e76a75a5",
   "metadata": {},
   "outputs": [],
   "source": [
    "my_set = {1,2,4,88,99}"
   ]
  },
  {
   "cell_type": "code",
   "execution_count": 12,
   "id": "e39a7f85",
   "metadata": {},
   "outputs": [
    {
     "data": {
      "text/plain": [
       "[99, 88, 4, 2, 1]"
      ]
     },
     "execution_count": 12,
     "metadata": {},
     "output_type": "execute_result"
    }
   ],
   "source": [
    "my_list = list(my_set)\n",
    "\n",
    "for i in range(0, len(my_list)):    \n",
    "    for j in range(i+1, len(my_list)):    \n",
    "        if(my_list[i] < my_list[j]):    \n",
    "            temp = my_list[i];    \n",
    "            my_list[i] = my_list[j];    \n",
    "            my_list[j] = temp;    \n",
    "my_list\n",
    "\n",
    "\n",
    "\n",
    "\n",
    "\n",
    "     "
   ]
  },
  {
   "cell_type": "code",
   "execution_count": null,
   "id": "bb8fafb6",
   "metadata": {},
   "outputs": [],
   "source": []
  }
 ],
 "metadata": {
  "kernelspec": {
   "display_name": "Python 3",
   "language": "python",
   "name": "python3"
  },
  "language_info": {
   "codemirror_mode": {
    "name": "ipython",
    "version": 3
   },
   "file_extension": ".py",
   "mimetype": "text/x-python",
   "name": "python",
   "nbconvert_exporter": "python",
   "pygments_lexer": "ipython3",
   "version": "3.8.8"
  }
 },
 "nbformat": 4,
 "nbformat_minor": 5
}

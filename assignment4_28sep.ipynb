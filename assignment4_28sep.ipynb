{
 "cells": [
  {
   "cell_type": "code",
   "execution_count": 29,
   "id": "f4206e36",
   "metadata": {},
   "outputs": [
    {
     "name": "stdout",
     "output_type": "stream",
     "text": [
      "[('three', 'four'), ('two', 'three'), ('one', 'two')]\n"
     ]
    }
   ],
   "source": [
    "## sort dict based on its value\n",
    "key_value = {'one':'two','three':'four','two':'three'}\n",
    "\n",
    "\n",
    "print(sorted(key_value.items(), key =\n",
    "             lambda kv:(kv[1], kv[0])))\n",
    "                    \n",
    "                    \n",
    "                    \n",
    "                    \n",
    "                \n",
    "\n",
    "\n",
    "    \n",
    "     \n",
    "    "
   ]
  },
  {
   "cell_type": "code",
   "execution_count": null,
   "id": "19429353",
   "metadata": {},
   "outputs": [],
   "source": []
  },
  {
   "cell_type": "code",
   "execution_count": null,
   "id": "b012ffe3",
   "metadata": {},
   "outputs": [],
   "source": []
  }
 ],
 "metadata": {
  "kernelspec": {
   "display_name": "Python 3",
   "language": "python",
   "name": "python3"
  },
  "language_info": {
   "codemirror_mode": {
    "name": "ipython",
    "version": 3
   },
   "file_extension": ".py",
   "mimetype": "text/x-python",
   "name": "python",
   "nbconvert_exporter": "python",
   "pygments_lexer": "ipython3",
   "version": "3.8.8"
  }
 },
 "nbformat": 4,
 "nbformat_minor": 5
}
